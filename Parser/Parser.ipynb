{
 "cells": [
  {
   "cell_type": "code",
   "execution_count": 15,
   "metadata": {},
   "outputs": [],
   "source": [
    "import requests\n",
    "import pandas as pd\n",
    "import re\n",
    "import time\n",
    "\n",
    "from bs4 import BeautifulSoup\n",
    "from selenium import webdriver\n",
    "from selenium.webdriver.common.by import By"
   ]
  },
  {
   "cell_type": "code",
   "execution_count": 16,
   "metadata": {},
   "outputs": [],
   "source": [
    "URL = \"https://zarina.ru\"\n",
    "email = ''\n",
    "password = ''\n",
    "\n",
    "options = webdriver.ChromeOptions()\n",
    "options.add_argument(\"--disable-infobars\")\n",
    "options.add_argument(\"start-maximized\")\n",
    "options.add_argument(\"--disable-extensions\")\n",
    "\n",
    "driver = webdriver.Chrome(options = options)\n",
    "driver.maximize_window()\n",
    "driver.get(URL + '/catalog/clothes/')\n",
    "\n",
    "authorization_btn = driver.find_element(By.XPATH, \"//div[@class='header__icons-item_link']\")\n",
    "driver.execute_script(\"arguments[0].click();\", authorization_btn)\n",
    "\n",
    "driver.find_element(By.XPATH, \"//input[@type='email']\").send_keys(email)\n",
    "driver.find_element(By.XPATH, \"//input[@type='password']\").send_keys(password)\n",
    "\n",
    "enter_btn = driver.find_element(By.XPATH, \"//button[@type='submit']\")\n",
    "driver.execute_script(\"arguments[0].click();\", enter_btn)\n",
    "\n",
    "time.sleep(5)\n",
    "pagination_button = driver.find_element(By.XPATH, \"//button[@class='pagination__more-btn']\")\n",
    "\n",
    "pages_cnt = 10\n",
    "for _ in range(pages_cnt):\n",
    "    try:\n",
    "        driver.execute_script(\"arguments[0].click();\", pagination_button)\n",
    "    except Exception:\n",
    "        break\n",
    "\n",
    "soup = BeautifulSoup(driver.page_source, 'html.parser') \n",
    "driver.close()"
   ]
  },
  {
   "cell_type": "code",
   "execution_count": 17,
   "metadata": {},
   "outputs": [],
   "source": [
    "df = pd.DataFrame()\n",
    "\n",
    "names = soup.find_all('div', class_ = 'catalog__product-title')\n",
    "names = [name.a.text for name in names]\n",
    "df['Name'] = names\n",
    "\n",
    "prices = soup.find_all('div', class_ = 'catalog__product-price_current')\n",
    "prices = [int(re.findall(r'\\d+', price.text)[0]) for price in prices]\n",
    "df['Price'] = prices\n",
    "\n",
    "\n",
    "urls = soup.find_all('div', class_ = 'catalog__product-content')\n",
    "pages = [requests.get(URL + url.a['href']) for url in urls]\n",
    "\n",
    "\n",
    "descriptions = []\n",
    "for page in pages:\n",
    "\n",
    "    soup = BeautifulSoup(page.text, 'html.parser')\n",
    "    full_description = ''\n",
    "    \n",
    "    color = soup.find('div', class_ = 'product__colors-title')\n",
    "    full_description += 'Цвет: ' + color.text.strip() + '\\n'\n",
    "\n",
    "    description = soup.find('div', class_ = 'product__desc')\n",
    "\n",
    "    for child in description.children:\n",
    "        full_description += child.text.strip() + '\\n'\n",
    "    \n",
    "    descriptions.append(full_description)\n",
    "    \n",
    "df['Description'] = descriptions\n",
    "\n",
    "df.to_csv(r'.\\zarina.csv', index = 0)\n"
   ]
  }
 ],
 "metadata": {
  "kernelspec": {
   "display_name": "Python 3",
   "language": "python",
   "name": "python3"
  },
  "language_info": {
   "codemirror_mode": {
    "name": "ipython",
    "version": 3
   },
   "file_extension": ".py",
   "mimetype": "text/x-python",
   "name": "python",
   "nbconvert_exporter": "python",
   "pygments_lexer": "ipython3",
   "version": "3.10.7"
  },
  "orig_nbformat": 4,
  "vscode": {
   "interpreter": {
    "hash": "af874b8d4f4459788df716e07a9b2cbb6aef8352bcd428451245bb55fab53f6a"
   }
  }
 },
 "nbformat": 4,
 "nbformat_minor": 2
}
